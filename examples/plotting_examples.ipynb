{
 "cells": [
  {
   "cell_type": "code",
   "execution_count": 2,
   "metadata": {},
   "outputs": [
    {
     "ename": "SyntaxError",
     "evalue": "invalid syntax (<ipython-input-2-b4839e44580c>, line 9)",
     "output_type": "error",
     "traceback": [
      "\u001b[0;36m  File \u001b[0;32m\"<ipython-input-2-b4839e44580c>\"\u001b[0;36m, line \u001b[0;32m9\u001b[0m\n\u001b[0;31m    from ../dg_maxwell import params\u001b[0m\n\u001b[0m           ^\u001b[0m\n\u001b[0;31mSyntaxError\u001b[0m\u001b[0;31m:\u001b[0m invalid syntax\n"
     ]
    }
   ],
   "source": [
    "#! /usr/bin/env python3\n",
    "\n",
    "import numpy as np\n",
    "import arrayfire as af\n",
    "\n",
    "#af.set_backend('cpu')\n",
    "#af.set_device(0)\n",
    "\n",
    "from dg_maxwell import params\n",
    "from dg_maxwell import wave_equation\n",
    "from dg_maxwell import lagrange\n",
    "\n",
    "if __name__ == '__main__':\n",
    "    # 1. Set the initial conditions\n",
    "    \n",
    "    ## 1. Sin\n",
    "    #E_00 = 1.\n",
    "    #E_01 = 1.\n",
    "\n",
    "    #B_00 = 0.2\n",
    "    #B_01 = 0.5\n",
    "\n",
    "    #E_z_init = E_00 * af.sin(2 * np.pi * params.element_LGL) \\\n",
    "            #+ E_01 * af.cos(2 * np.pi * params.element_LGL)\n",
    "\n",
    "    #B_y_init = B_00 * af.sin(2 * np.pi * params.element_LGL) \\\n",
    "            #+ B_01 * af.cos(2 * np.pi * params.element_LGL)\n",
    "    \n",
    "    ### 2. Gaussian\n",
    "    #E_0 = 1.\n",
    "    #B_0 = 1.\n",
    "    \n",
    "    #sigma = 0.1\n",
    "    \n",
    "    #E_z_init = E_0 * np.e**(-(params.element_LGL)**2 / sigma**2)\n",
    "    #B_y_init = B_0 * np.e**(-(params.element_LGL)**2 / sigma**2)\n",
    "    \n",
    "    \n",
    "    ################################################################\n",
    "    ######################## SET u_init ############################\n",
    "    ################################################################\n",
    "    #u_init = af.constant(0., d0 = params.N_LGL, d1 = params.N_Elements, d2 = 2)\n",
    "    #u_init[:, :, 0] = E_z_init\n",
    "    #u_init[:, :, 1] = B_y_init\n",
    "    \n",
    "    #u_init = params.u_init\n",
    "    E_z     =  af.sin(2 * np.pi * params.element_LGL) + af.cos(2 * np.pi * params.element_LGL)\n",
    "    B_y     =  af.sin(2 * np.pi * params.element_LGL) + af.cos(2 * np.pi * params.element_LGL)\n",
    "    u_init  =  af.join(2, E_z, B_y)\n",
    "    #u_diff  = wave_equation.time_evolution(u_init)\n",
    "    time    =  2.01\n",
    "    E_z_t   =  (np.cos(2*np.pi*time)+np.sin(2*np.pi*time))*af.sin(2 * np.pi * params.element_LGL) + (np.cos(2*np.pi*time)+np.sin(2*np.pi*time))*af.cos(2 * np.pi * params.element_LGL)\n",
    "    B_y_t   =  (np.cos(2*np.pi*time)+np.sin(2*np.pi*time))*af.sin(2 * np.pi * params.element_LGL) + (np.cos(2*np.pi*time)+np.sin(2*np.pi*time))*af.cos(2 * np.pi * params.element_LGL)\n",
    "    f, (ax1, ax2) = pl.subplots(2, sharex = True, sharey = True)\n",
    "    ax1.plot(params.element_LGL, E_z_t)\n",
    "    ax2.plot(params.element_LGL, B_y_t)\n",
    "\n",
    "    pl.xlabel(r'$x$')\n",
    "    ax1.set_ylabel(r'$E_z$')\n",
    "    ax2.set_ylabel(r'$B_y$')\n",
    "    pl.xlim(-1, 1)\n",
    "    pl.ylim(-1, 1)\n",
    "    pl.suptitle(r'Time = %.2f' % (i * 5 * params.delta_t))\n",
    "    f.savefig('results/1D_Wave_images/%04d' %(i) + '.png', dpi = 200)\n",
    "    pl.close('all')"
   ]
  },
  {
   "cell_type": "code",
   "execution_count": null,
   "metadata": {},
   "outputs": [],
   "source": []
  }
 ],
 "metadata": {
  "kernelspec": {
   "display_name": "Python 3",
   "language": "python",
   "name": "python3"
  },
  "language_info": {
   "codemirror_mode": {
    "name": "ipython",
    "version": 3
   },
   "file_extension": ".py",
   "mimetype": "text/x-python",
   "name": "python",
   "nbconvert_exporter": "python",
   "pygments_lexer": "ipython3",
   "version": "3.6.3"
  }
 },
 "nbformat": 4,
 "nbformat_minor": 2
}
